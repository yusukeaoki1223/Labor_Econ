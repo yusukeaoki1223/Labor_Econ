{
 "cells": [
  {
   "cell_type": "code",
   "execution_count": 3,
   "metadata": {},
   "outputs": [
    {
     "name": "stderr",
     "output_type": "stream",
     "text": [
      "─ \u001b[1mAttaching packages\u001b[22m ────────────────────────────────────────────────────────────────────────────── tidyverse 1.3.1 ─\n",
      "\n",
      "\u001b[32m✔\u001b[39m \u001b[34mggplot2\u001b[39m 3.3.5     \u001b[32m✔\u001b[39m \u001b[34mpurrr  \u001b[39m 0.3.4\n",
      "\u001b[32m✔\u001b[39m \u001b[34mtibble \u001b[39m 3.1.5     \u001b[32m✔\u001b[39m \u001b[34mdplyr  \u001b[39m 1.0.7\n",
      "\u001b[32m✔\u001b[39m \u001b[34mtidyr  \u001b[39m 1.1.3     \u001b[32m✔\u001b[39m \u001b[34mstringr\u001b[39m 1.4.0\n",
      "\u001b[32m✔\u001b[39m \u001b[34mreadr  \u001b[39m 1.4.0     \u001b[32m✔\u001b[39m \u001b[34mforcats\u001b[39m 0.5.1\n",
      "\n",
      "─ \u001b[1mConflicts\u001b[22m ──────────────────────────────────────────────────────────────────────────────── tidyverse_conflicts() ─\n",
      "\u001b[31m✖\u001b[39m \u001b[34mdplyr\u001b[39m::\u001b[32mfilter()\u001b[39m masks \u001b[34mstats\u001b[39m::filter()\n",
      "\u001b[31m✖\u001b[39m \u001b[34mdplyr\u001b[39m::\u001b[32mlag()\u001b[39m    masks \u001b[34mstats\u001b[39m::lag()\n",
      "\n",
      "\n",
      "Attaching package: ‘lubridate’\n",
      "\n",
      "\n",
      "The following objects are masked from ‘package:base’:\n",
      "\n",
      "    date, intersect, setdiff, union\n",
      "\n",
      "\n"
     ]
    },
    {
     "ename": "ERROR",
     "evalue": "Error in library(odbc): there is no package called ‘odbc’\n",
     "output_type": "error",
     "traceback": [
      "Error in library(odbc): there is no package called ‘odbc’\nTraceback:\n",
      "1. library(odbc)"
     ]
    }
   ],
   "source": [
    "library(tidyverse)\n",
    "library(ggplot2)\n",
    "library(stringr)\n",
    "library(lubridate)\n",
    "library(readr)\n",
    "library(odbc)\n",
    "library(DBI)\n",
    "library(gridExtra)\n",
    "library(sf)\n",
    "library(jpndistrict)\n",
    "library(purrr)\n",
    "library(scales)\n",
    "library(repr)\n",
    "library(scales)\n",
    "library(dplyr, warn.conflicts = FALSE)\n",
    "library(skimr)\n",
    "library(purrr)\n",
    "library(estimatr)\n",
    "library(fixest)\n",
    "#source(\"../../../functions/theme_nakahashi.R\")\n",
    "library(viridis)"
   ]
  },
  {
   "cell_type": "code",
   "execution_count": 4,
   "metadata": {},
   "outputs": [
    {
     "name": "stderr",
     "output_type": "stream",
     "text": [
      "\n",
      "Attaching package: ‘data.table’\n",
      "\n",
      "\n",
      "The following objects are masked from ‘package:lubridate’:\n",
      "\n",
      "    hour, isoweek, mday, minute, month, quarter, second, wday, week,\n",
      "    yday, year\n",
      "\n",
      "\n",
      "The following objects are masked from ‘package:dplyr’:\n",
      "\n",
      "    between, first, last\n",
      "\n",
      "\n",
      "The following object is masked from ‘package:purrr’:\n",
      "\n",
      "    transpose\n",
      "\n",
      "\n"
     ]
    }
   ],
   "source": [
    "library(data.table)"
   ]
  },
  {
   "cell_type": "code",
   "execution_count": 7,
   "metadata": {},
   "outputs": [],
   "source": [
    "library(pander)"
   ]
  },
  {
   "cell_type": "code",
   "execution_count": 17,
   "metadata": {},
   "outputs": [
    {
     "name": "stderr",
     "output_type": "stream",
     "text": [
      "Loading required package: devtools\n",
      "\n",
      "Loading required package: usethis\n",
      "\n",
      "Downloading GitHub repo tlamadon/RcppSimpleTensor@HEAD\n",
      "\n"
     ]
    },
    {
     "name": "stdout",
     "output_type": "stream",
     "text": [
      "digest (0.6.28 -> 0.6.29) [CRAN]\n",
      "inline (NA     -> 0.3.19) [CRAN]\n",
      "Rcpp   (1.0.7  -> 1.0.9 ) [CRAN]\n"
     ]
    },
    {
     "name": "stderr",
     "output_type": "stream",
     "text": [
      "Installing 3 packages: digest, inline, Rcpp\n",
      "\n",
      "Installing packages into ‘/Users/yusuke.aoki/Library/R/4.0/library’\n",
      "(as ‘lib’ is unspecified)\n",
      "\n"
     ]
    },
    {
     "name": "stdout",
     "output_type": "stream",
     "text": [
      "\n",
      "  There is a binary version available but the source version is later:\n",
      "      binary source needs_compilation\n",
      "Rcpp 1.0.8.3  1.0.9              TRUE\n",
      "\n",
      "\n",
      "The downloaded binary packages are in\n",
      "\t/var/folders/2v/f5x7qwjs15z1fmv73kf_rp840000gp/T//Rtmp4iATGO/downloaded_packages\n"
     ]
    },
    {
     "name": "stderr",
     "output_type": "stream",
     "text": [
      "installing the source package ‘Rcpp’\n",
      "\n",
      "\n"
     ]
    },
    {
     "name": "stdout",
     "output_type": "stream",
     "text": [
      "\u001b[32m✔\u001b[39m  \u001b[90mchecking for file ‘/private/var/folders/2v/f5x7qwjs15z1fmv73kf_rp840000gp/T/Rtmp4iATGO/remotes165f2054004b/tlamadon-RcppSimpleTensor-2a410cc/DESCRIPTION’\u001b[39m\u001b[36m\u001b[39m\n",
      "\u001b[90m─\u001b[39m\u001b[90m  \u001b[39m\u001b[90mpreparing ‘RcppSimpleTensor’:\u001b[39m\u001b[36m\u001b[39m\n",
      "\u001b[32m✔\u001b[39m  \u001b[90mchecking DESCRIPTION meta-information\u001b[39m\u001b[36m\u001b[39m\n",
      "\u001b[90m─\u001b[39m\u001b[90m  \u001b[39m\u001b[90mchecking for LF line-endings in source and make files and shell scripts\u001b[39m\u001b[36m\u001b[39m\n",
      "\u001b[90m─\u001b[39m\u001b[90m  \u001b[39m\u001b[90mchecking for empty or unneeded directories\u001b[39m\u001b[36m\u001b[39m\n",
      "\u001b[90m─\u001b[39m\u001b[90m  \u001b[39m\u001b[90mbuilding ‘RcppSimpleTensor_0.3.tar.gz’\u001b[39m\u001b[36m\u001b[39m\n",
      "   \n",
      "\r"
     ]
    },
    {
     "name": "stderr",
     "output_type": "stream",
     "text": [
      "Installing package into ‘/Users/yusuke.aoki/Library/R/4.0/library’\n",
      "(as ‘lib’ is unspecified)\n",
      "\n"
     ]
    }
   ],
   "source": [
    "require(devtools)\n",
    "install_github(\"tlamadon/RcppSimpleTensor\")\n"
   ]
  },
  {
   "cell_type": "code",
   "execution_count": 19,
   "metadata": {},
   "outputs": [
    {
     "name": "stderr",
     "output_type": "stream",
     "text": [
      "\n",
      "Attaching package: ‘testthat’\n",
      "\n",
      "\n",
      "The following object is masked from ‘package:devtools’:\n",
      "\n",
      "    test_file\n",
      "\n",
      "\n",
      "The following object is masked from ‘package:dplyr’:\n",
      "\n",
      "    matches\n",
      "\n",
      "\n",
      "The following object is masked from ‘package:purrr’:\n",
      "\n",
      "    is_null\n",
      "\n",
      "\n",
      "The following object is masked from ‘package:tidyr’:\n",
      "\n",
      "    matches\n",
      "\n",
      "\n"
     ]
    }
   ],
   "source": [
    "library(testthat)"
   ]
  },
  {
   "cell_type": "markdown",
   "metadata": {},
   "source": [
    "## Static Labor Supply"
   ]
  },
  {
   "cell_type": "markdown",
   "metadata": {},
   "source": [
    "We will consider the decision of the agent under the following rule\n",
    "\n",
    "$$ max_{c,h}{\\frac{c^{1+\\eta}}{1+\\eta}} -  \\beta{\\frac{h^{1+\\gamma}}{1+\\gamma}} $$\n",
    "\n",
    "$$ s.t. \\quad c=\\rho*w*h -  r+\\mu-\\beta_{0}・1[h>0] $$\n",
    "\n",
    "The individual takes his wage w as given, he chooses hours of work h and consumption c subject to a given non labor income $\\mu$ as well as a tax regime defined by $\\rho$,r. $\\beta_{0}$ is a fixed cost associated with working.\n",
    "\n",
    "We note already that the non labor income can control for dynamic labor supply since we can have $\\mu=b_{t}−(1+r)b_{t+1}$. This is part of a larger maximization problem where the agents choose optimaly bt over time. We will get there next time.\n"
   ]
  },
  {
   "cell_type": "markdown",
   "metadata": {},
   "source": [
    "### Interior solution"
   ]
  },
  {
   "cell_type": "markdown",
   "metadata": {},
   "source": [
    "F.O.C gives us $ w(wh+r-\\mu)^{\\eta}-\\beta h^{\\gamma} $. There is no clsoed-form but we can very quickly find an interior solution by using newton maximiaion on the function $ f(x)=w(wh+r-\\mu)^{\\eta}-\\beta h^{\\gamma} $. We iterate on\n",
    "\n",
    "$$ x \\leftarrow x - f(x)/f'(x) $$ "
   ]
  },
  {
   "cell_type": "code",
   "execution_count": 1,
   "metadata": {},
   "outputs": [],
   "source": [
    "# function which updates choice of hours using Newton step\n",
    "# R here is total unearned income (including taxes when not working and all)\n",
    "ff.newt <- function(x,w,R,eta,gamma,beta) {\n",
    "  f0 = w*(w*x + R)^eta - beta*x^gamma\n",
    "  f1 =  eta*w^2 * (w*x + R)^(eta-1) - gamma * beta *x^(gamma-1)\n",
    "  x  = x - f0/f1 \n",
    "  x  = ifelse(w*x + R<=0, -R/w + 0.0001,x) # make sure we do not step out of bounds for next iteration\n",
    "  x  = ifelse(x<0, 0.0001,x)\n",
    "  return(x)\n",
    "}\n"
   ]
  },
  {
   "cell_type": "markdown",
   "metadata": {},
   "source": [
    "### Simulating Data"
   ]
  },
  {
   "cell_type": "markdown",
   "metadata": {},
   "source": [
    "We are going to simulate a data set where agents will choose participation as well as the number of hours if they decide to work. To do that we will solve for the interior solution under a given tax rate and compare this to the option of no-work."
   ]
  },
  {
   "cell_type": "code",
   "execution_count": 5,
   "metadata": {},
   "outputs": [],
   "source": [
    "p  = list(eta=-1.5,gamma = 0.8,beta=1,beta0=0.1) # define preferences\n",
    "tx = list(rho=1,r=0) # define a simple tax\n",
    "N=1000\n",
    "simdata = data.table(i=1:N,X=rnorm(N))\n",
    "simdata[,lw := X     + rnorm(N)*0.2];      # add a wage which depends on X\n",
    "simdata[,mu := exp(0.3*X + rnorm(N)*0.2)]; # add non-labor income that also depends on X\n",
    "\n",
    "# we then solve for the choice of hours and consumption\n",
    "simdata[, h := pmax(-mu+tx$r + p$beta0 ,0)/exp(lw)+1] # starting value\n",
    "# for loop for newton method (30 should be enough, it is fast)\n",
    "for (i in 1:30) {\n",
    "  simdata[, h := ff.newt(h,tx$rho*exp(lw),mu-tx$r-p$beta0,p$eta,p$gamma,p$beta) ]\n",
    "}\n",
    "\n",
    "# attach consumption, value of working\n",
    "simdata[, c  := exp(lw)*h + mu - p$beta0];\n",
    "simdata[, u1 := c^(1+p$eta)/(1+p$eta) - p$beta * h^(1+p$gamma)/(1+p$gamma) ];"
   ]
  },
  {
   "cell_type": "code",
   "execution_count": 13,
   "metadata": {},
   "outputs": [
    {
     "name": "stdout",
     "output_type": "stream",
     "text": [
      "\n",
      "\n",
      "|     &nbsp;      |  Estimate  | Std. Error |  t value  | Pr(>|t|)  |\n",
      "|:---------------:|:----------:|:----------:|:---------:|:---------:|\n",
      "| **(Intercept)** | -2.022e-15 | 2.169e-16  |  -9.322   | 7.123e-20 |\n",
      "|   **log(c)**    |    1.5     | 1.027e-16  | 1.461e+16 |     0     |\n",
      "|   **log(h)**    |    0.8     | 2.565e-16  | 3.119e+15 |     0     |\n",
      "\n",
      "\n",
      "\n",
      "| Observations | Residual Std. Error | $R^2$ | Adjusted $R^2$ |\n",
      "|:------------:|:-------------------:|:-----:|:--------------:|\n",
      "|     1000     |      1.938e-15      |   1   |       1        |\n",
      "\n",
      "Table: Fitting linear model: lw ~ log(c) + log(h)\n",
      "\n"
     ]
    }
   ],
   "source": [
    "tmp_summary<-pander(summary(simdata[,lm(lw ~ log(c) + log(h))]))\n",
    "#display_markdown(tmp_summary)"
   ]
  },
  {
   "cell_type": "markdown",
   "metadata": {},
   "source": [
    "### Adding participation"
   ]
  },
  {
   "cell_type": "markdown",
   "metadata": {},
   "source": [
    "We simply compute the value of choosing h=0, then take the highest of working and not working."
   ]
  },
  {
   "cell_type": "code",
   "execution_count": 14,
   "metadata": {},
   "outputs": [
    {
     "data": {
      "image/png": "[encoded data removed]",
      "text/plain": [
       "plot without title"
      ]
     },
     "metadata": {
      "image/png": {
       "height": 420,
       "width": 420
      }
     },
     "output_type": "display_data"
    }
   ],
   "source": [
    "simdata[,u0:=  mu^(1+p$eta)/(1+p$eta)];\n",
    "simdata[,p1:=u1>u0]\n",
    "ggplot(simdata,aes(x=u0,y=u1)) + geom_point() + geom_abline(linetype=2) + theme_bw()"
   ]
  },
  {
   "cell_type": "code",
   "execution_count": 15,
   "metadata": {},
   "outputs": [
    {
     "name": "stdout",
     "output_type": "stream",
     "text": [
      "\n",
      "\n",
      "|     &nbsp;      | Estimate | Std. Error |  t value  | Pr(>|t|)  |\n",
      "|:---------------:|:--------:|:----------:|:---------:|:---------:|\n",
      "| **(Intercept)** | 1.53e-15 | 1.666e-16  |   9.183   | 3.757e-19 |\n",
      "|   **log(c)**    |   1.5    | 6.656e-17  | 2.253e+16 |     0     |\n",
      "|   **log(h)**    |   0.8    | 2.469e-16  | 3.241e+15 |     0     |\n",
      "\n",
      "\n",
      "\n",
      "| Observations | Residual Std. Error | $R^2$ | Adjusted $R^2$ |\n",
      "|:------------:|:-------------------:|:-----:|:--------------:|\n",
      "|     776      |      9.702e-16      |   1   |       1        |\n",
      "\n",
      "Table: Fitting linear model: lw ~ log(c) + log(h)\n",
      "\n"
     ]
    }
   ],
   "source": [
    "pander(summary(simdata[p1==TRUE,lm(lw ~ log(c) + log(h))]))"
   ]
  },
  {
   "cell_type": "markdown",
   "metadata": {},
   "source": [
    "### Heterogeneity in $\\beta$"
   ]
  },
  {
   "cell_type": "markdown",
   "metadata": {},
   "source": [
    "Finally we want to add heterogeneity in the β parameter."
   ]
  },
  {
   "cell_type": "code",
   "execution_count": 20,
   "metadata": {},
   "outputs": [
    {
     "name": "stderr",
     "output_type": "stream",
     "text": [
      "Warning message in summary.lm(simdata[, lm(lw ~ log(c) + log(h) + log(betai))]):\n",
      "“essentially perfect fit: summary may be unreliable”\n"
     ]
    }
   ],
   "source": [
    "simdata[,betai := exp(0.5*X+rnorm(N)*0.1)]\n",
    "simdata[, h := pmax(-mu+tx$r + p$beta0 ,0)/exp(lw)+1]\n",
    "for (i in 1:30) {\n",
    "  simdata[, h := ff.newt(h,tx$rho*exp(lw),mu-tx$r-p$beta0,p$eta,p$gamma,betai) ]\n",
    "}\n",
    "\n",
    "# attach consumption\n",
    "simdata[, c  := exp(lw)*h + mu - p$beta0];\n",
    "simdata[, u1 := c^(1+p$eta)/(1+p$eta) - betai * h^(1+p$gamma)/(1+p$gamma) ];\n",
    "simdata[, u0:=  mu^(1+p$eta)/(1+p$eta)];\n",
    "simdata[,p1:=u1>u0]\n",
    "\n",
    "# let's check that the FOC holds\n",
    "sfit = summary(simdata[,lm(lw ~ log(c) + log(h) + log(betai))])\n",
    "expect_equivalent(sfit$r.squared,1)\n",
    "expect_equivalent(coef(sfit)[\"log(c)\",1],-p$eta)\n",
    "expect_equivalent(coef(sfit)[\"log(h)\",1],p$gamma)\n",
    "\n",
    "sfit = summary(simdata[p1==TRUE,lm(lw ~ log(c) + log(h))])\n",
    "expect_false(coef(sfit)[\"log(c)\",1]==-p$eta)\n"
   ]
  },
  {
   "cell_type": "code",
   "execution_count": 21,
   "metadata": {},
   "outputs": [
    {
     "name": "stdout",
     "output_type": "stream",
     "text": [
      "\n",
      "\n",
      "|     &nbsp;      | Estimate | Std. Error | t value |  Pr(>|t|)  |\n",
      "|:---------------:|:--------:|:----------:|:-------:|:----------:|\n",
      "| **(Intercept)** | -0.5608  |  0.01451   | -38.66  | 1.386e-190 |\n",
      "|   **log(c)**    |  2.096   |   0.0214   |  97.95  |     0      |\n",
      "|   **log(h)**    |  0.2631  |  0.02867   |  9.176  | 3.217e-19  |\n",
      "\n",
      "\n",
      "\n",
      "| Observations | Residual Std. Error | $R^2$  | Adjusted $R^2$ |\n",
      "|:------------:|:-------------------:|:------:|:--------------:|\n",
      "|     867      |       0.1515        | 0.9699 |     0.9698     |\n",
      "\n",
      "Table: Fitting linear model: lw ~ log(c) + log(h)\n",
      "\n"
     ]
    }
   ],
   "source": [
    "pander(sfit)"
   ]
  },
  {
   "cell_type": "code",
   "execution_count": 22,
   "metadata": {},
   "outputs": [
    {
     "data": {
      "text/plain": [
       "\n",
       "Call:\n",
       "lm(formula = lw ~ log(c) + log(h))\n",
       "\n",
       "Residuals:\n",
       "     Min       1Q   Median       3Q      Max \n",
       "-0.51009 -0.09630  0.00479  0.10415  0.46122 \n",
       "\n",
       "Coefficients:\n",
       "            Estimate Std. Error t value Pr(>|t|)    \n",
       "(Intercept) -0.56082    0.01451 -38.656   <2e-16 ***\n",
       "log(c)       2.09594    0.02140  97.947   <2e-16 ***\n",
       "log(h)       0.26307    0.02867   9.176   <2e-16 ***\n",
       "---\n",
       "Signif. codes:  0 ‘***’ 0.001 ‘**’ 0.01 ‘*’ 0.05 ‘.’ 0.1 ‘ ’ 1\n",
       "\n",
       "Residual standard error: 0.1515 on 864 degrees of freedom\n",
       "Multiple R-squared:  0.9699,\tAdjusted R-squared:  0.9698 \n",
       "F-statistic: 1.391e+04 on 2 and 864 DF,  p-value: < 2.2e-16\n"
      ]
     },
     "metadata": {},
     "output_type": "display_data"
    }
   ],
   "source": [
    "sfit"
   ]
  },
  {
   "cell_type": "markdown",
   "metadata": {},
   "source": [
    "#### Simple case of $\\eta=0$"
   ]
  },
  {
   "cell_type": "code",
   "execution_count": 23,
   "metadata": {},
   "outputs": [],
   "source": [
    "p=list(eta=0,gamma=0.8,beta=1,beta0=0,nu=0.5) # define preferences\n",
    "tx=list(rho=1,r=0) # define a simple tax\n",
    "N=500"
   ]
  },
  {
   "cell_type": "code",
   "execution_count": 24,
   "metadata": {},
   "outputs": [
    {
     "data": {
      "text/html": [
       "1"
      ],
      "text/latex": [
       "1"
      ],
      "text/markdown": [
       "1"
      ],
      "text/plain": [
       "[1] 1"
      ]
     },
     "metadata": {},
     "output_type": "display_data"
    }
   ],
   "source": [
    "tx$rho"
   ]
  },
  {
   "cell_type": "code",
   "execution_count": 25,
   "metadata": {},
   "outputs": [],
   "source": [
    "simdata=data.table(i=1:N,X=rnorm(N))"
   ]
  },
  {
   "cell_type": "code",
   "execution_count": 26,
   "metadata": {},
   "outputs": [
    {
     "data": {
      "text/html": [
       "<table class=\"dataframe\">\n",
       "<caption>A data.table: 6 × 2</caption>\n",
       "<thead>\n",
       "\t<tr><th scope=col>i</th><th scope=col>X</th></tr>\n",
       "\t<tr><th scope=col>&lt;int&gt;</th><th scope=col>&lt;dbl&gt;</th></tr>\n",
       "</thead>\n",
       "<tbody>\n",
       "\t<tr><td>1</td><td>-2.90735856</td></tr>\n",
       "\t<tr><td>2</td><td>-0.04262519</td></tr>\n",
       "\t<tr><td>3</td><td> 0.45962900</td></tr>\n",
       "\t<tr><td>4</td><td>-0.65484758</td></tr>\n",
       "\t<tr><td>5</td><td> 0.29090349</td></tr>\n",
       "\t<tr><td>6</td><td> 0.65212503</td></tr>\n",
       "</tbody>\n",
       "</table>\n"
      ],
      "text/latex": [
       "A data.table: 6 × 2\n",
       "\\begin{tabular}{ll}\n",
       " i & X\\\\\n",
       " <int> & <dbl>\\\\\n",
       "\\hline\n",
       "\t 1 & -2.90735856\\\\\n",
       "\t 2 & -0.04262519\\\\\n",
       "\t 3 &  0.45962900\\\\\n",
       "\t 4 & -0.65484758\\\\\n",
       "\t 5 &  0.29090349\\\\\n",
       "\t 6 &  0.65212503\\\\\n",
       "\\end{tabular}\n"
      ],
      "text/markdown": [
       "\n",
       "A data.table: 6 × 2\n",
       "\n",
       "| i &lt;int&gt; | X &lt;dbl&gt; |\n",
       "|---|---|\n",
       "| 1 | -2.90735856 |\n",
       "| 2 | -0.04262519 |\n",
       "| 3 |  0.45962900 |\n",
       "| 4 | -0.65484758 |\n",
       "| 5 |  0.29090349 |\n",
       "| 6 |  0.65212503 |\n",
       "\n"
      ],
      "text/plain": [
       "  i X          \n",
       "1 1 -2.90735856\n",
       "2 2 -0.04262519\n",
       "3 3  0.45962900\n",
       "4 4 -0.65484758\n",
       "5 5  0.29090349\n",
       "6 6  0.65212503"
      ]
     },
     "metadata": {},
     "output_type": "display_data"
    }
   ],
   "source": [
    "simdata%>%head()"
   ]
  },
  {
   "cell_type": "code",
   "execution_count": 29,
   "metadata": {},
   "outputs": [
    {
     "data": {
      "text/html": [
       "<table class=\"dataframe\">\n",
       "<caption>A data.table: 6 × 7</caption>\n",
       "<thead>\n",
       "\t<tr><th scope=col>i</th><th scope=col>X</th><th scope=col>lw</th><th scope=col>mu</th><th scope=col>eps</th><th scope=col>betai</th><th scope=col>h</th></tr>\n",
       "\t<tr><th scope=col>&lt;int&gt;</th><th scope=col>&lt;dbl&gt;</th><th scope=col>&lt;dbl&gt;</th><th scope=col>&lt;dbl&gt;</th><th scope=col>&lt;dbl&gt;</th><th scope=col>&lt;dbl&gt;</th><th scope=col>&lt;dbl&gt;</th></tr>\n",
       "</thead>\n",
       "<tbody>\n",
       "\t<tr><td>1</td><td>-2.90735856</td><td>-2.8352463</td><td>0.5115266</td><td>-0.065525817</td><td>0.2188858</td><td>0.1930026</td></tr>\n",
       "\t<tr><td>2</td><td>-0.04262519</td><td>-0.1166115</td><td>0.8105578</td><td> 0.008149149</td><td>0.9869228</td><td>0.8787015</td></tr>\n",
       "\t<tr><td>3</td><td> 0.45962900</td><td> 0.2881069</td><td>1.0907082</td><td>-0.151061772</td><td>1.0819368</td><td>1.2991273</td></tr>\n",
       "\t<tr><td>4</td><td>-0.65484758</td><td>-0.6944905</td><td>0.8682428</td><td> 0.081057744</td><td>0.7816361</td><td>0.5711202</td></tr>\n",
       "\t<tr><td>5</td><td> 0.29090349</td><td> 0.2618219</td><td>1.3924673</td><td>-0.106612455</td><td>1.0396034</td><td>1.3214483</td></tr>\n",
       "\t<tr><td>6</td><td> 0.65212503</td><td> 0.6003370</td><td>1.3559250</td><td> 0.044989580</td><td>1.4492586</td><td>1.3318996</td></tr>\n",
       "</tbody>\n",
       "</table>\n"
      ],
      "text/latex": [
       "A data.table: 6 × 7\n",
       "\\begin{tabular}{lllllll}\n",
       " i & X & lw & mu & eps & betai & h\\\\\n",
       " <int> & <dbl> & <dbl> & <dbl> & <dbl> & <dbl> & <dbl>\\\\\n",
       "\\hline\n",
       "\t 1 & -2.90735856 & -2.8352463 & 0.5115266 & -0.065525817 & 0.2188858 & 0.1930026\\\\\n",
       "\t 2 & -0.04262519 & -0.1166115 & 0.8105578 &  0.008149149 & 0.9869228 & 0.8787015\\\\\n",
       "\t 3 &  0.45962900 &  0.2881069 & 1.0907082 & -0.151061772 & 1.0819368 & 1.2991273\\\\\n",
       "\t 4 & -0.65484758 & -0.6944905 & 0.8682428 &  0.081057744 & 0.7816361 & 0.5711202\\\\\n",
       "\t 5 &  0.29090349 &  0.2618219 & 1.3924673 & -0.106612455 & 1.0396034 & 1.3214483\\\\\n",
       "\t 6 &  0.65212503 &  0.6003370 & 1.3559250 &  0.044989580 & 1.4492586 & 1.3318996\\\\\n",
       "\\end{tabular}\n"
      ],
      "text/markdown": [
       "\n",
       "A data.table: 6 × 7\n",
       "\n",
       "| i &lt;int&gt; | X &lt;dbl&gt; | lw &lt;dbl&gt; | mu &lt;dbl&gt; | eps &lt;dbl&gt; | betai &lt;dbl&gt; | h &lt;dbl&gt; |\n",
       "|---|---|---|---|---|---|---|\n",
       "| 1 | -2.90735856 | -2.8352463 | 0.5115266 | -0.065525817 | 0.2188858 | 0.1930026 |\n",
       "| 2 | -0.04262519 | -0.1166115 | 0.8105578 |  0.008149149 | 0.9869228 | 0.8787015 |\n",
       "| 3 |  0.45962900 |  0.2881069 | 1.0907082 | -0.151061772 | 1.0819368 | 1.2991273 |\n",
       "| 4 | -0.65484758 | -0.6944905 | 0.8682428 |  0.081057744 | 0.7816361 | 0.5711202 |\n",
       "| 5 |  0.29090349 |  0.2618219 | 1.3924673 | -0.106612455 | 1.0396034 | 1.3214483 |\n",
       "| 6 |  0.65212503 |  0.6003370 | 1.3559250 |  0.044989580 | 1.4492586 | 1.3318996 |\n",
       "\n"
      ],
      "text/plain": [
       "  i X           lw         mu        eps          betai     h        \n",
       "1 1 -2.90735856 -2.8352463 0.5115266 -0.065525817 0.2188858 0.1930026\n",
       "2 2 -0.04262519 -0.1166115 0.8105578  0.008149149 0.9869228 0.8787015\n",
       "3 3  0.45962900  0.2881069 1.0907082 -0.151061772 1.0819368 1.2991273\n",
       "4 4 -0.65484758 -0.6944905 0.8682428  0.081057744 0.7816361 0.5711202\n",
       "5 5  0.29090349  0.2618219 1.3924673 -0.106612455 1.0396034 1.3214483\n",
       "6 6  0.65212503  0.6003370 1.3559250  0.044989580 1.4492586 1.3318996"
      ]
     },
     "metadata": {},
     "output_type": "display_data"
    }
   ],
   "source": [
    "simdata<-simdata[,lw:=X+rnorm(N)*0.2]; # addd a wage with depends on X\n",
    "simdata<-simdata[,mu:=exp(0.3*X +rnorm(N)*0.2)]; # add non-labor income that also depends on X\n",
    "simdata<-simdata[,eps:=rnorm(N)*0.1];\n",
    "simdata<-simdata[,betai:=exp(p$nu*X+eps)];\n",
    "simdata<-simdata[,h:=(tx$rho*exp(lw)/betai)^(1/p$gamma)];\n",
    "simdata%>%head()"
   ]
  },
  {
   "cell_type": "code",
   "execution_count": 30,
   "metadata": {},
   "outputs": [
    {
     "name": "stdout",
     "output_type": "stream",
     "text": [
      "\n",
      "\n",
      "|     &nbsp;      | Estimate  | Std. Error | t value |  Pr(>|t|)  |\n",
      "|:---------------:|:---------:|:----------:|:-------:|:----------:|\n",
      "| **(Intercept)** | -0.003364 |  0.005473  | -0.6146 |   0.5391   |\n",
      "|     **lw**      |   1.166   |  0.02807   |  41.54  | 9.394e-164 |\n",
      "|      **X**      |  -0.5488  |   0.0286   | -19.19  |  8.22e-62  |\n",
      "\n",
      "\n",
      "\n",
      "| Observations | Residual Std. Error | $R^2$  | Adjusted $R^2$ |\n",
      "|:------------:|:-------------------:|:------:|:--------------:|\n",
      "|     500      |       0.1223        | 0.9687 |     0.9686     |\n",
      "\n",
      "Table: Fitting linear model: log(h) ~ lw + X\n",
      "\n"
     ]
    }
   ],
   "source": [
    "sfit3 = summary(simdata[,lm(log(h) ~ lw + X)])\n",
    "pander(sfit3)"
   ]
  },
  {
   "cell_type": "code",
   "execution_count": 31,
   "metadata": {},
   "outputs": [
    {
     "name": "stdout",
     "output_type": "stream",
     "text": [
      "\n",
      "\n",
      "|     &nbsp;      | Estimate | Std. Error | t value |  Pr(>|t|)  |\n",
      "|:---------------:|:--------:|:----------:|:-------:|:----------:|\n",
      "| **(Intercept)** | 0.001736 |  0.004136  | 0.4197  |   0.6749   |\n",
      "|   **log(h)**    |  0.6658  |  0.01603   |  41.54  | 9.394e-164 |\n",
      "|      **X**      |  0.5893  |  0.01069   |  55.11  | 7.881e-214 |\n",
      "\n",
      "\n",
      "\n",
      "| Observations | Residual Std. Error | $R^2$  | Adjusted $R^2$ |\n",
      "|:------------:|:-------------------:|:------:|:--------------:|\n",
      "|     500      |       0.09241       | 0.9923 |     0.9923     |\n",
      "\n",
      "Table: Fitting linear model: lw ~ log(h) + X\n",
      "\n"
     ]
    }
   ],
   "source": [
    "sfit4 = summary(simdata[,lm(lw ~ log(h) + X)])\n",
    "pander(sfit4)"
   ]
  },
  {
   "cell_type": "markdown",
   "metadata": {},
   "source": [
    "Then we can construct a counter-factual revenue"
   ]
  },
  {
   "cell_type": "code",
   "execution_count": 33,
   "metadata": {},
   "outputs": [
    {
     "data": {
      "text/html": [
       "<table class=\"dataframe\">\n",
       "<caption>A data.table: 1 × 4</caption>\n",
       "<thead>\n",
       "\t<tr><th scope=col>totearnings</th><th scope=col>R1</th><th scope=col>R2</th><th scope=col>R3</th></tr>\n",
       "\t<tr><th scope=col>&lt;dbl&gt;</th><th scope=col>&lt;dbl&gt;</th><th scope=col>&lt;dbl&gt;</th><th scope=col>&lt;dbl&gt;</th></tr>\n",
       "</thead>\n",
       "<tbody>\n",
       "\t<tr><td>45.63602</td><td>0</td><td>2.042992</td><td>4.563602</td></tr>\n",
       "</tbody>\n",
       "</table>\n"
      ],
      "text/latex": [
       "A data.table: 1 × 4\n",
       "\\begin{tabular}{llll}\n",
       " totearnings & R1 & R2 & R3\\\\\n",
       " <dbl> & <dbl> & <dbl> & <dbl>\\\\\n",
       "\\hline\n",
       "\t 45.63602 & 0 & 2.042992 & 4.563602\\\\\n",
       "\\end{tabular}\n"
      ],
      "text/markdown": [
       "\n",
       "A data.table: 1 × 4\n",
       "\n",
       "| totearnings &lt;dbl&gt; | R1 &lt;dbl&gt; | R2 &lt;dbl&gt; | R3 &lt;dbl&gt; |\n",
       "|---|---|---|---|\n",
       "| 45.63602 | 0 | 2.042992 | 4.563602 |\n",
       "\n"
      ],
      "text/plain": [
       "  totearnings R1 R2       R3      \n",
       "1 45.63602    0  2.042992 4.563602"
      ]
     },
     "metadata": {},
     "output_type": "display_data"
    }
   ],
   "source": [
    "p2  = list(eta=0,gamma = 1/sfit3$coefficients[\"lw\",\"Estimate\"],beta=1,beta0=0)\n",
    "tx2 = tx\n",
    "tx2$rho = 0.9\n",
    "simdata <- simdata[, h2 := (tx2$rho*exp(lw)/betai)^(1/p2$gamma)]\n",
    "\n",
    "simdata[, list(totearnings =mean(exp(lw+h)), \n",
    "               R1=mean((1-tx$rho)*exp(lw+h)),\n",
    "               R2=mean((1-tx2$rho)*exp(lw+h2)) ,\n",
    "               R3=mean((1-tx2$rho)*exp(lw+h)) )]"
   ]
  },
  {
   "cell_type": "markdown",
   "metadata": {},
   "source": [
    "#### Heterogeneity in $\\beta$ revisited"
   ]
  },
  {
   "cell_type": "markdown",
   "metadata": {},
   "source": [
    "Finally we want to add heterogeneity in the beta parameter"
   ]
  },
  {
   "cell_type": "code",
   "execution_count": 34,
   "metadata": {},
   "outputs": [],
   "source": [
    "p  = list(eta=-1.5,gamma = 0.8,beta=1,beta0=0,nu=0.5) # define preferences\n",
    "tx = list(rho=1,r=0) # define a simple tax\n",
    "N=5000\n",
    "simdata = data.table(i=1:N,X=rnorm(N))\n",
    "simdata <- simdata[,lw := X     + rnorm(N)*0.2];      # add a wage which depends on X\n",
    "simdata <- simdata[,mu := exp(0.3*X + rnorm(N)*0.2)]; # add non-labor income that also depends on X\n",
    "simdata <- simdata[,eps := rnorm(N)*0.1]\n",
    "simdata <- simdata[,betai := exp(p$nu*X+eps)]\n",
    "simdata <- simdata[, h := (tx$rho*exp(lw)/betai)^(1/p$gamma)]\n",
    "simdata <- simdata[, betai := exp(p$nu*X+rnorm(N)*0.1)]\n",
    "simdata <- simdata[, h := pmax(-mu+tx$r ,0)/exp(lw)+1]"
   ]
  },
  {
   "cell_type": "code",
   "execution_count": null,
   "metadata": {},
   "outputs": [],
   "source": [
    "# function which updates choice of hours using Newton step\n",
    "# R here is total unearned income (including taxes when not working and all)\n",
    "ff.newt <- function(x,w,R,eta,gamma,beta) {\n",
    "  f0 = w*(w*x + R)^eta - beta*x^gamma\n",
    "  f1 =  eta*w^2 * (w*x + R)^(eta-1) - gamma * beta *x^(gamma-1)\n",
    "  x  = x - f0/f1 \n",
    "  x  = ifelse(w*x + R<=0, -R/w + 0.0001,x) # make sure we do not step out of bounds for next iteration\n",
    "  x  = ifelse(x<0, 0.0001,x)\n",
    "  return(x)\n",
    "}\n"
   ]
  },
  {
   "cell_type": "code",
   "execution_count": 35,
   "metadata": {},
   "outputs": [],
   "source": [
    "for (i in 1:30) {\n",
    "  simdata <- simdata[, h := ff.newt(h,tx$rho*exp(lw),mu-tx$r,p$eta,p$gamma,betai) ]\n",
    "}"
   ]
  },
  {
   "cell_type": "code",
   "execution_count": 36,
   "metadata": {},
   "outputs": [],
   "source": [
    "# attach consumption\n",
    "simdata <- simdata[, c  := exp(lw)*h + mu];"
   ]
  },
  {
   "cell_type": "code",
   "execution_count": 37,
   "metadata": {},
   "outputs": [],
   "source": [
    "# let's check that the FOC holds\n",
    "sfit = summary(simdata[,lm(lw ~ log(c) + log(h) + log(betai))])"
   ]
  },
  {
   "cell_type": "code",
   "execution_count": 39,
   "metadata": {},
   "outputs": [
    {
     "data": {
      "text/plain": [
       "\n",
       "Call:\n",
       "lm(formula = lw ~ log(c) + log(h) + log(betai))\n",
       "\n",
       "Residuals:\n",
       "       Min         1Q     Median         3Q        Max \n",
       "-1.562e-14 -1.370e-16 -3.000e-18  1.120e-16  7.069e-14 \n",
       "\n",
       "Coefficients:\n",
       "             Estimate Std. Error   t value Pr(>|t|)    \n",
       "(Intercept) 1.306e-15  6.459e-17 2.022e+01   <2e-16 ***\n",
       "log(c)      1.500e+00  8.944e-17 1.677e+16   <2e-16 ***\n",
       "log(h)      8.000e-01  7.263e-17 1.101e+16   <2e-16 ***\n",
       "log(betai)  1.000e+00  8.247e-17 1.213e+16   <2e-16 ***\n",
       "---\n",
       "Signif. codes:  0 ‘***’ 0.001 ‘**’ 0.01 ‘*’ 0.05 ‘.’ 0.1 ‘ ’ 1\n",
       "\n",
       "Residual standard error: 1.061e-15 on 4996 degrees of freedom\n",
       "Multiple R-squared:      1,\tAdjusted R-squared:      1 \n",
       "F-statistic: 1.558e+33 on 3 and 4996 DF,  p-value: < 2.2e-16\n"
      ]
     },
     "metadata": {},
     "output_type": "display_data"
    }
   ],
   "source": [
    "sfit"
   ]
  },
  {
   "cell_type": "code",
   "execution_count": 40,
   "metadata": {},
   "outputs": [],
   "source": [
    "expect_equivalent(sfit$r.squared,1)"
   ]
  },
  {
   "cell_type": "code",
   "execution_count": 41,
   "metadata": {},
   "outputs": [
    {
     "data": {
      "text/html": [
       "1.5"
      ],
      "text/latex": [
       "1.5"
      ],
      "text/markdown": [
       "1.5"
      ],
      "text/plain": [
       "[1] 1.5"
      ]
     },
     "metadata": {},
     "output_type": "display_data"
    }
   ],
   "source": [
    "-p$eta"
   ]
  },
  {
   "cell_type": "code",
   "execution_count": 42,
   "metadata": {},
   "outputs": [],
   "source": [
    "expect_equivalent(sfit$r.squared,1)\n",
    "expect_equivalent(coef(sfit)[\"log(c)\",1],-p$eta)\n",
    "expect_equivalent(coef(sfit)[\"log(h)\",1],p$gamma)"
   ]
  },
  {
   "cell_type": "code",
   "execution_count": 43,
   "metadata": {},
   "outputs": [
    {
     "name": "stdout",
     "output_type": "stream",
     "text": [
      "\n",
      "\n",
      "|     &nbsp;      | Estimate | Std. Error | t value | Pr(>|t|) |\n",
      "|:---------------:|:--------:|:----------:|:-------:|:--------:|\n",
      "| **(Intercept)** | -0.5393  |  0.008036  | -67.11  |    0     |\n",
      "|   **log(c)**    |  2.427   |  0.007955  |  305.1  |    0     |\n",
      "|   **log(h)**    |  0.6115  |  0.01217   |  50.24  |    0     |\n",
      "\n",
      "\n",
      "\n",
      "| Observations | Residual Std. Error | $R^2$  | Adjusted $R^2$ |\n",
      "|:------------:|:-------------------:|:------:|:--------------:|\n",
      "|     5000     |       0.1821        | 0.9685 |     0.9685     |\n",
      "\n",
      "Table: Fitting linear model: lw ~ log(c) + log(h)\n",
      "\n"
     ]
    }
   ],
   "source": [
    "sfit2 = summary(simdata[,lm(lw ~ log(c) + log(h))])\n",
    "expect_false(coef(sfit2)[\"log(c)\",1]==-p$eta)\n",
    "\n",
    "sfit3 = summary(simdata[,lm(lw ~ log(c) + log(h) + X)])\n",
    "pander(sfit2)"
   ]
  },
  {
   "cell_type": "markdown",
   "metadata": {},
   "source": [
    "Next we have established the following condition in the class:\n",
    "\n",
    "$$ E[log(w)-\\gamma log(h)-\\eta log(c)+\\nu x| W,R,X]=0 $$\n",
    "This suggests an IV strategy where we instrument using W,R,X. We can use either hours or consumption as a dependent variable and instrument the other. We use h and implement using 2SLS (identical to IV in this case). We then first regress c on the three variables to get the predicted component, that we then use in a regression."
   ]
  },
  {
   "cell_type": "code",
   "execution_count": null,
   "metadata": {},
   "outputs": [],
   "source": [
    "# "
   ]
  },
  {
   "cell_type": "code",
   "execution_count": 46,
   "metadata": {},
   "outputs": [
    {
     "name": "stdout",
     "output_type": "stream",
     "text": [
      "\n",
      "\n",
      "|     &nbsp;      | Estimate | Std. Error | t value | Pr(>|t|) |\n",
      "|:---------------:|:--------:|:----------:|:-------:|:--------:|\n",
      "| **(Intercept)** | 0.004115 |  0.007797  | 0.5278  |  0.5976  |\n",
      "|    **c_iv**     |  -1.89   |  0.01805   | -104.7  |    0     |\n",
      "|     **lw**      |  1.241   |  0.01114   |  111.4  |    0     |\n",
      "|      **X**      | -0.6083  |  0.008334  | -72.99  |    0     |\n",
      "\n",
      "Table: Fitting linear model: log(h) ~ c_iv + lw + X\n",
      "\n"
     ]
    }
   ],
   "source": [
    "fit_c=simdata[,lm(log(c)~lw+log(mu)+X)]\n",
    "simdata[,c_iv:=predict(fit_c)]\n",
    "\n",
    "sfit_iv2=simdata[,lm(log(h)~c_iv + lw + X )]\n",
    "pander(sfit_iv2)"
   ]
  },
  {
   "cell_type": "markdown",
   "metadata": {},
   "source": [
    "Where we find as regression coefficients $1/\\gamma$ and $\\eta/\\gamma $. Note of course that the inference out of the second regression is no valid"
   ]
  },
  {
   "cell_type": "markdown",
   "metadata": {},
   "source": [
    "### Heckman selection"
   ]
  },
  {
   "cell_type": "markdown",
   "metadata": {},
   "source": [
    "we cover here a simple version of the heckman selection. In the labor supply homework, you will see a version of this closer to the structure of the model presented at the beginning of this page.\n",
    "\n",
    "we start with the following model:\n",
    "\n",
    "$$  y_{i}^{*}=\\gamma x_{i}+\\epsilon_{i}  $$\n",
    "$$  d_{i}=1[\\delta_{1}x_{i}+\\delta_{2}z_{i}+u_{i} \\geq 0] $$\n",
    "$$  y_{i}=d_{i}+y_{i}^{*}  $$\n",
    "\n",
    "And only $  (y_{i},d_{i},x_{i},z_{i})  $ are observed. We assume that $(\\epsilon_{i},u_{i})$ are jointly normal, mean zero and independent of xi."
   ]
  },
  {
   "cell_type": "code",
   "execution_count": 47,
   "metadata": {},
   "outputs": [
    {
     "data": {
      "text/html": [
       "<table class=\"dataframe\">\n",
       "<caption>A data.table: 6 × 7</caption>\n",
       "<thead>\n",
       "\t<tr><th scope=col>y</th><th scope=col>ys</th><th scope=col>d</th><th scope=col>x</th><th scope=col>z</th><th scope=col>e</th><th scope=col>u</th></tr>\n",
       "\t<tr><th scope=col>&lt;dbl&gt;</th><th scope=col>&lt;dbl&gt;</th><th scope=col>&lt;lgl&gt;</th><th scope=col>&lt;dbl&gt;</th><th scope=col>&lt;dbl&gt;</th><th scope=col>&lt;dbl&gt;</th><th scope=col>&lt;dbl&gt;</th></tr>\n",
       "</thead>\n",
       "<tbody>\n",
       "\t<tr><td>-0.05559057</td><td>-0.05559057</td><td> TRUE</td><td> 0.5526028</td><td>-0.02831522</td><td>-0.6081934</td><td> 1.2321173</td></tr>\n",
       "\t<tr><td>         NA</td><td>-0.37066144</td><td>FALSE</td><td>-0.2532811</td><td>-0.85533089</td><td>-0.1173803</td><td>-0.7778158</td></tr>\n",
       "\t<tr><td>         NA</td><td>-3.38040688</td><td>FALSE</td><td> 0.6122099</td><td> 0.05430389</td><td>-3.9926168</td><td>-2.1308626</td></tr>\n",
       "\t<tr><td>         NA</td><td> 1.50770074</td><td>FALSE</td><td> 0.2506134</td><td>-0.29065708</td><td> 1.2570873</td><td>-0.1103597</td></tr>\n",
       "\t<tr><td>         NA</td><td>-1.72751550</td><td>FALSE</td><td>-0.4069174</td><td> 0.02249527</td><td>-1.3205981</td><td>-0.9249931</td></tr>\n",
       "\t<tr><td> 0.37186064</td><td> 0.37186064</td><td> TRUE</td><td>-0.4452799</td><td> 0.74295608</td><td> 0.8171405</td><td> 0.3717077</td></tr>\n",
       "</tbody>\n",
       "</table>\n"
      ],
      "text/latex": [
       "A data.table: 6 × 7\n",
       "\\begin{tabular}{lllllll}\n",
       " y & ys & d & x & z & e & u\\\\\n",
       " <dbl> & <dbl> & <lgl> & <dbl> & <dbl> & <dbl> & <dbl>\\\\\n",
       "\\hline\n",
       "\t -0.05559057 & -0.05559057 &  TRUE &  0.5526028 & -0.02831522 & -0.6081934 &  1.2321173\\\\\n",
       "\t          NA & -0.37066144 & FALSE & -0.2532811 & -0.85533089 & -0.1173803 & -0.7778158\\\\\n",
       "\t          NA & -3.38040688 & FALSE &  0.6122099 &  0.05430389 & -3.9926168 & -2.1308626\\\\\n",
       "\t          NA &  1.50770074 & FALSE &  0.2506134 & -0.29065708 &  1.2570873 & -0.1103597\\\\\n",
       "\t          NA & -1.72751550 & FALSE & -0.4069174 &  0.02249527 & -1.3205981 & -0.9249931\\\\\n",
       "\t  0.37186064 &  0.37186064 &  TRUE & -0.4452799 &  0.74295608 &  0.8171405 &  0.3717077\\\\\n",
       "\\end{tabular}\n"
      ],
      "text/markdown": [
       "\n",
       "A data.table: 6 × 7\n",
       "\n",
       "| y &lt;dbl&gt; | ys &lt;dbl&gt; | d &lt;lgl&gt; | x &lt;dbl&gt; | z &lt;dbl&gt; | e &lt;dbl&gt; | u &lt;dbl&gt; |\n",
       "|---|---|---|---|---|---|---|\n",
       "| -0.05559057 | -0.05559057 |  TRUE |  0.5526028 | -0.02831522 | -0.6081934 |  1.2321173 |\n",
       "|          NA | -0.37066144 | FALSE | -0.2532811 | -0.85533089 | -0.1173803 | -0.7778158 |\n",
       "|          NA | -3.38040688 | FALSE |  0.6122099 |  0.05430389 | -3.9926168 | -2.1308626 |\n",
       "|          NA |  1.50770074 | FALSE |  0.2506134 | -0.29065708 |  1.2570873 | -0.1103597 |\n",
       "|          NA | -1.72751550 | FALSE | -0.4069174 |  0.02249527 | -1.3205981 | -0.9249931 |\n",
       "|  0.37186064 |  0.37186064 |  TRUE | -0.4452799 |  0.74295608 |  0.8171405 |  0.3717077 |\n",
       "\n"
      ],
      "text/plain": [
       "  y           ys          d     x          z           e          u         \n",
       "1 -0.05559057 -0.05559057  TRUE  0.5526028 -0.02831522 -0.6081934  1.2321173\n",
       "2          NA -0.37066144 FALSE -0.2532811 -0.85533089 -0.1173803 -0.7778158\n",
       "3          NA -3.38040688 FALSE  0.6122099  0.05430389 -3.9926168 -2.1308626\n",
       "4          NA  1.50770074 FALSE  0.2506134 -0.29065708  1.2570873 -0.1103597\n",
       "5          NA -1.72751550 FALSE -0.4069174  0.02249527 -1.3205981 -0.9249931\n",
       "6  0.37186064  0.37186064  TRUE -0.4452799  0.74295608  0.8171405  0.3717077"
      ]
     },
     "metadata": {},
     "output_type": "display_data"
    }
   ],
   "source": [
    "N=5000\n",
    "p = list(gamma = 1.0, delta1 = 0.8, delta2 = 0.8, alpha = 1.0, sigma_v = 1.0, sigma_u = 1.0)\n",
    "X = 2*runif(N)-1\n",
    "Z = 2*runif(N)-1\n",
    "U = p$sigma_u * rnorm(N)\n",
    "D = p$delta1 * X + p$delta2 * Z + U >= 0 \n",
    "E = p$alpha * U + p$sigma_v * rnorm(N)\n",
    "Ys = p$gamma * X + E \n",
    "\n",
    "data = data.table(y = Ys * D, ys=Ys, d = D, x=X,z=Z,e=E,u=U)\n",
    "data[ d==FALSE, y:=NA]\n",
    "data%>%head()"
   ]
  },
  {
   "cell_type": "markdown",
   "metadata": {},
   "source": [
    "While $E[\\epsilon_{i}|x_{i}]=0$ we can’t use that for identification since what we observe is $(y_{i},x_{i})$ and note $(y_{i}^{*},x_{i})$, so we can’t construct $E[y_{i}^{*}x_{i}].$\n",
    "\n",
    "We then need to rely on something else. We are going to look at$E[y_{i}^{*}x_{i}|d_{i}]\\geq 0]$.which is then equal to $E[y_{i}x_{i}|d_{i}]\\geq 0]$ which is observed!"
   ]
  },
  {
   "cell_type": "code",
   "execution_count": 48,
   "metadata": {},
   "outputs": [
    {
     "data": {
      "text/plain": [
       "\n",
       "Call:\n",
       "lm(formula = y ~ x, data = data)\n",
       "\n",
       "Residuals:\n",
       "    Min      1Q  Median      3Q     Max \n",
       "-3.8662 -0.8545 -0.0271  0.8376  4.4771 \n",
       "\n",
       "Coefficients:\n",
       "            Estimate Std. Error t value Pr(>|t|)    \n",
       "(Intercept)  0.73897    0.02657   27.82   <2e-16 ***\n",
       "x            0.63552    0.04574   13.89   <2e-16 ***\n",
       "---\n",
       "Signif. codes:  0 ‘***’ 0.001 ‘**’ 0.01 ‘*’ 0.05 ‘.’ 0.1 ‘ ’ 1\n",
       "\n",
       "Residual standard error: 1.265 on 2536 degrees of freedom\n",
       "  (2462 observations deleted due to missingness)\n",
       "Multiple R-squared:  0.07075,\tAdjusted R-squared:  0.07038 \n",
       "F-statistic: 193.1 on 1 and 2536 DF,  p-value: < 2.2e-16\n"
      ]
     },
     "metadata": {},
     "output_type": "display_data"
    }
   ],
   "source": [
    "fit1 = lm(y ~ x,data)\n",
    "summary(fit1)"
   ]
  },
  {
   "cell_type": "code",
   "execution_count": 49,
   "metadata": {},
   "outputs": [
    {
     "name": "stderr",
     "output_type": "stream",
     "text": [
      "`geom_smooth()` using method = 'gam' and formula 'y ~ s(x, bs = \"cs\")'\n",
      "\n"
     ]
    },
    {
     "data": {
      "image/png": "[encoded data removed]",
      "text/plain": [
       "plot without title"
      ]
     },
     "metadata": {
      "image/png": {
       "height": 420,
       "width": 420
      }
     },
     "output_type": "display_data"
    }
   ],
   "source": [
    "#ggplot(data, aes(x = x, y= e)) + geom_smooth() + \n",
    "#  theme_bw() + geom_hline(yintercept=0,linetype=2)\n",
    "ggplot(data[d==TRUE], aes(x = x, y= e)) + geom_smooth() + \n",
    "  theme_bw() + geom_hline(yintercept=0,linetype=2)"
   ]
  },
  {
   "cell_type": "markdown",
   "metadata": {},
   "source": [
    "We then look at\n",
    "$$E[y_{i}|x_{i},z_{i},d_{i}=1]=E[y_{i}^{*}|x_{i},z_{i},d_{i}=1]\\\\\n",
    "                                     =E[\\gamma x_{i}+\\epsilon_{i}|x_{i},z_{i},d_{i}=1]  \\\\\n",
    "                                     =\\gamma x_{i}+E[\\epsilon_{i}|x_{i},z_{i},d_{i}=1]$$"
   ]
  },
  {
   "cell_type": "markdown",
   "metadata": {},
   "source": [
    "(ϵi,ui) are jointly normal so we know we can write ϵi=αui+vi where vi is normal, mean zero and independent of ui. We can then write the conditional expectation as follows:\n",
    "\n",
    "$$E[\\epsilon_{i}|x_{i},z_{i},d_{i}=1]=E[\\epsilon_{i}^{*}|x_{i},z_{i},\\delta_{2}z_{i}+u_{i}\\geq 0]\\\\\n",
    "                                     =E[\\alpha u_{i}+v_{i}|x_{i},z_{i},\\delta_{1}x_{i}+\\delta_{2}z_{i}+u_{i} \\geq 0]  \\\\\n",
    "                                     =\\alpha E[u_{i}|x_{i},z_{i},\\delta_{1}x_{i}+\\delta_{2}z_{i}+u_{i} \\geq 0]+E[v_{i}|x_{i},z_{i},\\delta_{1}x_{i}+\\delta_{2}z_{i}+u_{i} \\geq 0]\\\\\n",
    "                                     =\\alpha E[u_{i}|x_{i},z_{i},\\delta_{1}x_{i}+\\delta_{2}z_{i}+u_{i} \\geq 0]\\\\\n",
    "                                     =\\alpha E[u_{i}|u_{i} \\geq -\\delta_{1}x_{i}-\\delta_{2}z_{i}]$$"
   ]
  },
  {
   "cell_type": "markdown",
   "metadata": {},
   "source": [
    "Which means that we need a value for δ1σu and δ2σu. Luckily the participation decision given by δ2zi+δ1xi+ui≥0 and so the probit regression of di on zi and xi gives precisely these coefficients!"
   ]
  },
  {
   "cell_type": "code",
   "execution_count": 50,
   "metadata": {},
   "outputs": [
    {
     "data": {
      "text/plain": [
       "\n",
       "Call:\n",
       "glm(formula = d ~ x + z, family = binomial(\"probit\"), data = data)\n",
       "\n",
       "Deviance Residuals: \n",
       "    Min       1Q   Median       3Q      Max  \n",
       "-2.4016  -0.9692   0.3948   0.9603   2.2355  \n",
       "\n",
       "Coefficients:\n",
       "            Estimate Std. Error z value Pr(>|z|)    \n",
       "(Intercept) 0.005758   0.019148   0.301    0.764    \n",
       "x           0.793001   0.034194  23.192   <2e-16 ***\n",
       "z           0.841250   0.034149  24.635   <2e-16 ***\n",
       "---\n",
       "Signif. codes:  0 ‘***’ 0.001 ‘**’ 0.01 ‘*’ 0.05 ‘.’ 0.1 ‘ ’ 1\n",
       "\n",
       "(Dispersion parameter for binomial family taken to be 1)\n",
       "\n",
       "    Null deviance: 6930.3  on 4999  degrees of freedom\n",
       "Residual deviance: 5754.2  on 4997  degrees of freedom\n",
       "AIC: 5760.2\n",
       "\n",
       "Number of Fisher Scoring iterations: 3\n"
      ]
     },
     "metadata": {},
     "output_type": "display_data"
    }
   ],
   "source": [
    "fit2 = glm(d ~ x + z, family = binomial('probit'), data)\n",
    "summary(fit2)"
   ]
  },
  {
   "cell_type": "code",
   "execution_count": null,
   "metadata": {},
   "outputs": [],
   "source": []
  }
 ],
 "metadata": {
  "kernelspec": {
   "display_name": "R",
   "language": "R",
   "name": "ir"
  },
  "language_info": {
   "codemirror_mode": "r",
   "file_extension": ".r",
   "mimetype": "text/x-r-source",
   "name": "R",
   "pygments_lexer": "r",
   "version": "4.0.4"
  }
 },
 "nbformat": 4,
 "nbformat_minor": 4
}
